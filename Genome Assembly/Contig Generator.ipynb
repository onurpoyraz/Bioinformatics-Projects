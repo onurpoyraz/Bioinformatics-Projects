{
 "cells": [
  {
   "cell_type": "markdown",
   "metadata": {},
   "source": [
    "## Bioinformatics Assignment 2\n",
    "#### Onur Poyraz"
   ]
  },
  {
   "cell_type": "markdown",
   "metadata": {},
   "source": [
    "In this assignment, I deal with the contig generator. Because in such cases, the search for an Eulerian path fails. In this case, contigs rather than entire chromosomes are assembled.\n",
    "\n",
    "For this assignment, firstly I create de Bruijn graph and I find the maximal non-branching path on this graph. My program returns all the contigs including the inputs which are not part of any contigs."
   ]
  },
  {
   "cell_type": "markdown",
   "metadata": {},
   "source": [
    "In the below there is code and algorithm that I implemented for this problem. In the first line I introduced the libraries that I use. In this project I only use numpy to make matrix calculations for faster program."
   ]
  },
  {
   "cell_type": "code",
   "execution_count": 1,
   "metadata": {},
   "outputs": [],
   "source": [
    "import numpy as np"
   ]
  },
  {
   "cell_type": "markdown",
   "metadata": {},
   "source": [
    "The below functions create de Bruijn graph. In here I do not introduce every node for faster and more stable implementation. I only focus on non-branching part of the graph."
   ]
  },
  {
   "cell_type": "code",
   "execution_count": 2,
   "metadata": {},
   "outputs": [],
   "source": [
    "def de_bruijn(input_series):\n",
    "    k = len(input_series[0])\n",
    "    edges = []\n",
    "    nodes = set()\n",
    "    for item in input_series:\n",
    "        edges.append((item, item[0 : k - 1], item[1 : k]))\n",
    "        nodes.add(item[0 : k - 1])\n",
    "        nodes.add(item[1 : k])\n",
    "    return nodes, edges"
   ]
  },
  {
   "cell_type": "code",
   "execution_count": 3,
   "metadata": {},
   "outputs": [],
   "source": [
    "def edge_finder(nodes, edges):\n",
    "    founds = []\n",
    "    io_counter = np.zeros((len(nodes), 2));\n",
    "    for i, item in enumerate(nodes):\n",
    "        for element in edges:\n",
    "            if(element[1] == item):\n",
    "                io_counter[i][0] = io_counter[i][0] +1\n",
    "            if(element[2] == item):\n",
    "                io_counter[i][1] = io_counter[i][1] +1\n",
    "        if(io_counter[i][0] == 1 and io_counter[i][1] == 1):\n",
    "            founds.append(item)\n",
    "    return founds"
   ]
  },
  {
   "cell_type": "markdown",
   "metadata": {},
   "source": [
    "After the introducing graph I focus on the creating contigs. For this purpose I define below function. In here I firstly find all the k-mers that are part of the non-branching parts. After that I find all the non-branching parts from the beginning."
   ]
  },
  {
   "cell_type": "code",
   "execution_count": 4,
   "metadata": {},
   "outputs": [],
   "source": [
    "def contig_generator(edges, founds):\n",
    "    output_series = ''\n",
    "    printed_series = ''\n",
    "    edges_remaining = []\n",
    "    for item in edges:\n",
    "        if not [element for element in founds if element in item[0]]:\n",
    "            output_series += '%s\\n' % (item[0])\n",
    "        else:\n",
    "            edges_remaining.append(item)\n",
    "\n",
    "    current_element = ''\n",
    "    while (len(edges_remaining)>0):\n",
    "        for item in edges_remaining:\n",
    "            if (current_element == ''):\n",
    "                if not [element for element in founds if element ==item[1]]:\n",
    "                    output_series += '%s' % (item[0])\n",
    "                    printed_series += '%s' % (item[0])\n",
    "                    current_element = item[2]\n",
    "                    edges_remaining.remove(item)\n",
    "                    break;\n",
    "            else:\n",
    "                if (item[1] == current_element):\n",
    "                    output_series += '%s' % (item[0][-1])\n",
    "                    printed_series += '%s' % (item[0][-1])\n",
    "                    current_element = item[2]\n",
    "                    if not [element for element in founds if element == current_element]:\n",
    "                        current_element = ''\n",
    "                        output_series += '\\n'\n",
    "                        printed_series += '\\n'\n",
    "                    edges_remaining.remove(item)\n",
    "                    break;\n",
    "    return output_series, printed_series"
   ]
  },
  {
   "cell_type": "markdown",
   "metadata": {},
   "source": [
    "The last row of the code is runs all the function that I define above and prints all the outputs to text file."
   ]
  },
  {
   "cell_type": "code",
   "execution_count": 5,
   "metadata": {},
   "outputs": [
    {
     "name": "stdout",
     "output_type": "stream",
     "text": [
      "AAAAGCGCCGCGAAACTTTAGCCAACCGTCGCTAGTGACTTAGGTTGGAGACTAACTAAGTAAAAAACTTGGTATTAATATCCCTACACTATTATTCGGACCTTGTGAGTAACCTGAAAGATCCGACTCCAGT\n",
      "GCGACTTTCTTGTGCTTTACTATCGTTGGGTACGGGTGCTACCGCATCTTGCAAGTGCTTCCATGGCAGGATTGATGTCGTTCGTCATCGGCCAGTTCCTGGGGACATACTGTATGACAATTTGTGACCG\n",
      "AGATTCCGTATGCGCTTATGTCCCCCTATAGCTAATTGAAACACGGCTTGAACAGCAAAGCCTCTGCGGTAACTCAGAAGGATTACATATGAGACGTGTATAATGTACATCAGGCCGCAAGTGCAACGTCATG\n",
      "TTTTTATAGGGAGGTGATTCGCGTCGACATAGGGTGTCTGGCCCGTGCAAGTATAGGTTCTTGTACGATTTACTTGAAACAGTTCTCCGGACCTATAGCCTTTTACGGAATATGAGGCTATGGCGAGGGGT\n",
      "GCCTCTTAGGGTCGTTTTAGACTGGTTCTATTTAGACCCATATACGATTATACGACATTAAGAAGTGCACTTGGGCCTTTTGGGGGCTGTGCTAGTAGCCCCAAACTTGACAAGTCGAGAACCCTAACACTC\n",
      "ACCTCAATCATGCCTAAGCCCTCTCCCTAGACCTCGACAACGGTCTTTGAAGCTCTGCACATTATGGCGACTTTCTTGTGCTTTACTATCGTTGGGTACGGGTGCTACCGCATCTTGCAAGTGCTTCCAT\n",
      "TAAAGATTTGGGTCGTTTTACGTCATCCTTGCTTGCGGTGGCCCCGCGCACGGTTTAGTTGTCAAAGGGACCTCAATCATGCCTAAGCCCTCTCCCTAGACCTCGACAACGGTCTTTGAAGCTCTGCACATT\n",
      "CCAATGAGCTAGTGAACAACAGTACAGCGAATAGTCCGCGGGGGTCGCAAGACATTCTCACATCCTCGACATCGCACTTCTAGTCAAGACAACGACTCATTAAGCGGTGTTGCTCGAGAGATTTCCGCC\n",
      "CTTCGGCTGAAACGACCGCTCGTAATGTGGCCGGCTCGGGCACCTCGATCAGGAGCCCCGGACTTCTCGTCGAGTACAATTATGAAGTGATCTTGCAGTTGGTGTTGAGAGCTATCCGCTTCTTCGAGCAAGACC\n",
      "TGTTCTAGTATACGGTCACCTTCTCCGGCATGTCGACAGCATGTAACACCTCTCAGGTAAGGATAGTATGTCAGTTCCCGATAAGAATACAAGGGTATATTCTACAATAAATGTCGCATGGGTAGATTGGTTG\n",
      "ACAAGACAGTCTGTTCTAGCTGGTTATTATACTCTGACAAATCAAAAGGATGTGGATCGGAAAACCTCACCAATGAGCTAGTGAACAACAGTACAGCGAATAGTCCGCGGGGGTCGCAAGACATTCTCACAT\n",
      "CGACATCGCACTTCTAGTCAAGACAACGACTCATTAAGCGGTGTTGCTCGAGAGATTTCCGCCCAGGCCTCTTAGGGTCGTTTTAGACTGGTTCTATTTAGACCCATATACGATTATACGACATTAAGAAG\n",
      "ACTTGGGCCTTTTGGGGGCTGTGCTAGTAGCCCCAAACTTGACAAGTCGAGAACCCTAACACTCGGTTATCTCAGTTCAATGGTAAATGTAACACCAGCTAAAACTATAACACCCCTAACTAAACGGATA\n",
      "GCTAAATTATACAGAAAAGGAACCATCTTCGATTTACGTCCAAGGCGGGTAGAATATCAAGCGGATGCTTACTAATCATCGAACCGTGGCGCAGCCGGTAGACGATGTGACGCCGTTGCTGGGAGGTTACTA\n",
      "TCGAGTACAATTATGAAGTGATCTTGCAGTTGGTGTTGAGAGCTATCCGCTTCTTCGAGCAAGACCAGGGCTAAATTATACAGAAAAGGAACCATCTTCGATTTACGTCCAAGGCGGGTAGAATATCAAGCG\n",
      "GCCTAATAAGCTTTTTTATCTCGATCCATTGCGTTGCCTTCCCGTAGCCATCAGAGTAGTGGGTGCGCTGTGCTATTTAACACGTAACGTACATATGATAGATAGCATCGAGGCCATCTCCAAGCGGAAGTG\n",
      "AGGATTGATGTCGTTCGTCATCGGCCAGTTCCTGGGGACATACTGTATGACAATTTGTGACCGTCCGACGGGGGCACAAACAACTCAGTAATCGGACACGCCCGTAGGTGGCCCTTCCTAACGCAATGTA\n",
      "TAAAGCCATTAGGACCACGCACTTTGATCACTTCTGTCAAATCCGCGAAGTTTTGTGGGTCGTCGAACCTTCGGCTGAAACGACCGCTCGTAATGTGGCCGGCTCGGGCACCTCGATCAGGAGCCCCGGACTTC\n",
      "AAACACTATTCCGTTGTATTCCACGCCGATCCTATAAAAATTAAGACGAGGCTAAGGTATCTACATGTGAAAGACGATGGGAGCTGCAAAGCCTGCCTGGGTAGCCTTGAGGTGGGCATGTCGGATCACAGTC\n",
      "GACGGGGGCACAAACAACTCAGTAATCGGACACGCCCGTAGGTGGCCCTTCCTAACGCAATGTAAGACTCACTAACCATTAACGCAGTGGGAGATTGCCCCATATTGTGACCGTAGATTGCAAGAATTAC\n",
      "TATCTCAGTTCAATGGTAAATGTAACACCAGCTAAAACTATAACACCCCTAACTAAACGGATAGGCCGCTCTATTATGGGATTAACCGTGTCCCCGTATATAGTCGCTCGCTCTGGGTTCTTAGTGTCTGA\n",
      "GTAATACATCTCGGTGGCCCAAATGCGGGTACTTACACTTGTCCAGCTTCACGCAACCGAGTCCCTTCTCAAATTCAATGTATTTGGAACTCGAGGCCTAAAAACTCCCCGCGGGCGGGAATGAATCCCCGG\n",
      "GCTTACTAATCATCGAACCGTGGCGCAGCCGGTAGACGATGTGACGCCGTTGCTGGGAGGTTACTAAATTCCTCAGCTATAATATTTTGGTACTTGTATTAGCAATGGCCTCTATGGATACAAATAGATCGTGG\n",
      "TGAAAGACGATGGGAGCTGCAAAGCCTGCCTGGGTAGCCTTGAGGTGGGCATGTCGGATCACAGTCGACATTTGGAGGACACGCGGGCACCGCTCCCCACCGGTGATGCACCACGGAAACGTTACTGCAGCC\n",
      "ATTTGGAGGACACGCGGGCACCGCTCCCCACCGGTGATGCACCACGGAAACGTTACTGCAGCCCTGGCTTTGTAATCAGCTCCCTCTTGCACAGTACGTTAACAACCATCAAATTGCGATTGCTAAGACAT\n",
      "CTCACTAACCATTAACGCAGTGGGAGATTGCCCCATATTGTGACCGTAGATTGCAAGAATTACCTCTAATGAGGCCGACACGTATAGTAGACCATGCTGGCGCTTTGGGCATCTGCCTGAATACCGAGATT\n",
      "GATTTACTTGAAACAGTTCTCCGGACCTATAGCCTTTTACGGAATATGAGGCTATGGCGAGGGGTTAGTAAAGCCATTAGGACCACGCACTTTGATCACTTCTGTCAAATCCGCGAAGTTTTGTGGGTCGTCG\n",
      "GCTTTGTAATCAGCTCCCTCTTGCACAGTACGTTAACAACCATCAAATTGCGATTGCTAAGACATGGTGCCTAATAAGCTTTTTTATCTCGATCCATTGCGTTGCCTTCCCGTAGCCATCAGAGTAGTGGG\n",
      "GTGCCGCAACCACTCTGGAATACATTACAATAATTTCATACCTGAAGCAGTGGCCTATAGGGAGCGTAAAGATTTGGGTCGTTTTACGTCATCCTTGCTTGCGGTGGCCCCGCGCACGGTTTAGTTGTCAAA\n",
      "TCAGTTCCCGATAAGAATACAAGGGTATATTCTACAATAAATGTCGCATGGGTAGATTGGTTGTGGTTTTTATAGGGAGGTGATTCGCGTCGACATAGGGTGTCTGGCCCGTGCAAGTATAGGTTCTTG\n",
      "TAATGAGGCCGACACGTATAGTAGACCATGCTGGCGCTTTGGGCATCTGCCTGAATACCGAGATTCTCTGAGTGCCTGGCGTGCATGCCGGGAAACTATCTCTAACGCAGAGCAGCTCGGGTGAGGTATTT\n",
      "CGTCTAGTTACGAGCACGGCCATTTGTGTGTTTACGATGGTCATGGGACGTAGTAATGCCGAGCTATCAAAAGCGCCGCGAAACTTTAGCCAACCGTCGCTAGTGACTTAGGTTGGAGACTAACTAAGTAAAAA\n",
      "ACACTGACTGTTATGCGCGATCGGAAATTGGTGGCGGTCCGGCTTGGCGTAGCACTGATCGGATGAACGCTACCTAATAGTACCCGCCTAACCCACCCCACTTTTATTGGGTAGCAATGCACCCACTCCAA\n",
      "ACGCTACCTAATAGTACCCGCCTAACCCACCCCACTTTTATTGGGTAGCAATGCACCCACTCCAAGCAAGATTCCGTATGCGCTTATGTCCCCCTATAGCTAATTGAAACACGGCTTGAACAGCAAAGCCTC\n",
      "TGAGTGCCTGGCGTGCATGCCGGGAAACTATCTCTAACGCAGAGCAGCTCGGGTGAGGTATTTAATGTAATACATCTCGGTGGCCCAAATGCGGGTACTTACACTTGTCCAGCTTCACGCAACCGAGTCC\n",
      "TGGTATTAATATCCCTACACTATTATTCGGACCTTGTGAGTAACCTGAAAGATCCGACTCCAGTCAAAGTGTTAAAAGCTGGAGGGCATCTAAGCTCATAATAATTTAAAGAATGCTTCTTTCCGCAGAAA\n",
      "GCCCGACGCACCTACGCTTTAGCAAAGGGCGTAGGGCAATGGCACACAGTAAGGACGTCGAAATCAGTTACAAGACAGTCTGTTCTAGCTGGTTATTATACTCTGACAAATCAAAAGGATGTGGATCGGAAAACC\n",
      "CGCTCTATTATGGGATTAACCGTGTCCCCGTATATAGTCGCTCGCTCTGGGTTCTTAGTGTCTGAAACACACTGACTGTTATGCGCGATCGGAAATTGGTGGCGGTCCGGCTTGGCGTAGCACTGATCGGA\n",
      "GGTAACTCAGAAGGATTACATATGAGACGTGTATAATGTACATCAGGCCGCAAGTGCAACGTCATGGTAAAACACTATTCCGTTGTATTCCACGCCGATCCTATAAAAATTAAGACGAGGCTAAGGTATCTAC\n",
      "CTCAAATTCAATGTATTTGGAACTCGAGGCCTAAAAACTCCCCGCGGGCGGGAATGAATCCCCGGGATACTGTTGGAGCTACCGTATAGAGCCGCCAATTCATTTTCTGTACCACATCTCTAAATCGATACACT\n",
      "TCCTCAGCTATAATATTTTGGTACTTGTATTAGCAATGGCCTCTATGGATACAAATAGATCGTGGCCCGTGCCGCAACCACTCTGGAATACATTACAATAATTTCATACCTGAAGCAGTGGCCTATAGGGA\n",
      "AGTGTTAAAAGCTGGAGGGCATCTAAGCTCATAATAATTTAAAGAATGCTTCTTTCCGCAGAAAGGAGCCCGACGCACCTACGCTTTAGCAAAGGGCGTAGGGCAATGGCACACAGTAAGGACGTCGAAATCA\n",
      "ACTGTTGGAGCTACCGTATAGAGCCGCCAATTCATTTTCTGTACCACATCTCTAAATCGATACACTCGGCGTCTAGTTACGAGCACGGCCATTTGTGTGTTTACGATGGTCATGGGACGTAGTAATGCCGAGCT\n",
      "\n"
     ]
    }
   ],
   "source": [
    "input_series = []\n",
    "with open('./test-input.txt') as f:\n",
    "    input_series = f.read().splitlines() \n",
    "\n",
    "nodes, edges = de_bruijn(input_series)\n",
    "founds = edge_finder(nodes, edges)\n",
    "output_series, printed_series = contig_generator(edges, founds)\n",
    "                \n",
    "with open(\"test-output.txt\", \"w\") as text_file:\n",
    "    text_file.write(output_series)\n",
    "with open(\"test-output-contigs-only.txt\", \"w\") as text_file:\n",
    "    text_file.write(printed_series)\n",
    "    \n",
    "print(printed_series)"
   ]
  },
  {
   "cell_type": "code",
   "execution_count": null,
   "metadata": {},
   "outputs": [],
   "source": []
  }
 ],
 "metadata": {
  "kernelspec": {
   "display_name": "Python 3",
   "language": "python",
   "name": "python3"
  },
  "language_info": {
   "codemirror_mode": {
    "name": "ipython",
    "version": 3
   },
   "file_extension": ".py",
   "mimetype": "text/x-python",
   "name": "python",
   "nbconvert_exporter": "python",
   "pygments_lexer": "ipython3",
   "version": "3.6.4"
  }
 },
 "nbformat": 4,
 "nbformat_minor": 2
}
