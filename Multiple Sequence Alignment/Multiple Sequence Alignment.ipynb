{
 "cells": [
  {
   "cell_type": "markdown",
   "metadata": {},
   "source": [
    "# Onur Poyraz 2016705069\n",
    "## Bioinformatics Assignment 1 - Multiple Sequence Allignment"
   ]
  },
  {
   "cell_type": "markdown",
   "metadata": {},
   "source": [
    "I start my project with the needed library. Without these my python3 code will not be implemented and will give errors."
   ]
  },
  {
   "cell_type": "code",
   "execution_count": 1,
   "metadata": {},
   "outputs": [],
   "source": [
    "import numpy as np\n",
    "import sys, string"
   ]
  },
  {
   "cell_type": "markdown",
   "metadata": {},
   "source": [
    "In this part of code I define some necessary tools. I first start with the definition of awards and penalties"
   ]
  },
  {
   "cell_type": "code",
   "execution_count": 2,
   "metadata": {},
   "outputs": [],
   "source": [
    "match_award      = 1\n",
    "semi_match_award = 0.5\n",
    "mismatch_penalty = 0\n",
    "gap_penalty      = 0"
   ]
  },
  {
   "cell_type": "code",
   "execution_count": 3,
   "metadata": {},
   "outputs": [],
   "source": [
    "def match_score(alpha, beta):\n",
    "    if alpha == beta:\n",
    "        return match_award\n",
    "    elif alpha == '-' or beta == '-':\n",
    "        return gap_penalty\n",
    "    elif (alpha in beta) or (beta in alpha):\n",
    "        return semi_match_award\n",
    "    else:\n",
    "        return mismatch_penalty"
   ]
  },
  {
   "cell_type": "code",
   "execution_count": 4,
   "metadata": {},
   "outputs": [],
   "source": [
    "def sequence_alignment(sequence1, sequence2):\n",
    "    M, N = len(sequence1), len(sequence2)\n",
    "    score = np.zeros((M + 1, N + 1))\n",
    "    \n",
    "    for m in range(M + 1):\n",
    "        for n in range(N + 1):\n",
    "            if m == 0:\n",
    "                score[0][n] = gap_penalty * n\n",
    "            if n == 0:\n",
    "                score[m][0] = gap_penalty * m\n",
    "            if m != 0 and n != 0:\n",
    "                match = score[m - 1][n - 1] + match_score(sequence1[m - 1], sequence2[n - 1])\n",
    "                delete = score[m - 1][n] + gap_penalty\n",
    "                insert = score[m][n - 1] + gap_penalty\n",
    "                score[m][n] = max(match, delete, insert)\n",
    "    \n",
    "    alignment1, alignment2 = [], []\n",
    "    while M > 0 or N > 0:\n",
    "        if M > 0 and N > 0:\n",
    "            score_current = score[M][N]\n",
    "            score_diagonal = score[M - 1][N - 1]\n",
    "            score_up = score[M][N - 1]\n",
    "            score_left = score[M - 1][N]\n",
    "            if score_current == score_diagonal + match_score(sequence1[M - 1], sequence2[N - 1]):\n",
    "                alignment1.append(sequence1[M - 1])\n",
    "                alignment2.append(sequence2[N - 1])\n",
    "                M -= 1\n",
    "                N -= 1\n",
    "            elif score_current == score_left + gap_penalty:\n",
    "                alignment1.append(sequence1[M - 1])\n",
    "                alignment2.append('-')\n",
    "                M -= 1\n",
    "            elif score_current == score_up + gap_penalty:\n",
    "                alignment1.append('-')\n",
    "                alignment2.append(sequence2[N - 1])\n",
    "                N -= 1\n",
    "        elif M > 0:\n",
    "            alignment1.append(sequence1[M - 1])\n",
    "            alignment2.append('-')\n",
    "            M -= 1\n",
    "        elif N > 0:\n",
    "            alignment1.append('-')\n",
    "            alignment2.append(sequence2[N - 1])\n",
    "            N -= 1\n",
    "    \n",
    "    align1 = alignment1[::-1]\n",
    "    align2 = alignment2[::-1]\n",
    "    len_of_seqs = len(align1)\n",
    "    profile = []\n",
    "    score = 0\n",
    "    for i in range(len_of_seqs):\n",
    "        if align1[i] == align2[i]:\n",
    "            score += match_score(align1[i], align2[i])\n",
    "            profile.append(align1[i])\n",
    "        elif align1[i] != align2[i] and align1[i] != '-' and align2[i] != '-': \n",
    "            score += match_score(align1[i], align2[i])\n",
    "            profile.append('(' + align1[i].strip('()') + '/' + align2[i].strip('()') + ')')\n",
    "        elif align1[i] == '-' or align2[i] == '-':\n",
    "            score += gap_penalty\n",
    "            profile.append('(' + align1[i].strip('()') + '/' + align2[i].strip('()') + ')')\n",
    "\n",
    "    return score, profile, align1, align2"
   ]
  },
  {
   "cell_type": "code",
   "execution_count": 7,
   "metadata": {},
   "outputs": [],
   "source": [
    "filename = 'test-seq2.txt'\n",
    "with open(filename) as f:\n",
    "    data = f.readlines()"
   ]
  },
  {
   "cell_type": "markdown",
   "metadata": {},
   "source": [
    "### 1. Pairwise Alignment and Scores"
   ]
  },
  {
   "cell_type": "code",
   "execution_count": 10,
   "metadata": {},
   "outputs": [
    {
     "name": "stdout",
     "output_type": "stream",
     "text": [
      "The score is:\n",
      "16\n",
      "The profile created and the sequences are given below:\n",
      "(T/-)G(-/A)T(T/A)TAAAA(-/C)A(T/-)G(T/-)(C/-)(C/G)G(-/A)(C/T)AAC(-/T)(-/G)CA(T/A)T(T/G)(C/G)\n",
      "TG-TTTAAAA-ATGTCCG-CAAC--CATTTC\n",
      "-GATATAAAACA-G--GGATAACTGCAATGG\n",
      "\n",
      "\n",
      "The score is:\n",
      "18\n",
      "The profile created and the sequences are given below:\n",
      "(-/C)(-/C)TG(-/C)T(-/A)(-/C)TT(A/-)(A/-)(A/-)(A/T)ATG(T/-)CCG(-/T)C(A/-)(A/T)CCAT(-/A)T(T/G)C(-/G)\n",
      "--TG-T--TTAAAAATGTCCG-CAACCAT-TTC-\n",
      "CCTGCTACTT---TATG-CCGTC-TCCATATGCG\n",
      "\n",
      "\n",
      "The score is:\n",
      "16\n",
      "The profile created and the sequences are given below:\n",
      "(-/C)(-/C)(-/T)G(-/C)(-/T)A(-/C)T(A/-)T(A/T)A(A/T)(A/G)C(A/-)(G/-)(G/C)G(A/-)T(A/-)(A/-)CT(G/C)CA(-/T)ATG(-/C)G\n",
      "---G--A-TATAAAACAGGGATAACTGCA-ATG-G\n",
      "CCTGCTACT-TTATGC--CG-T--CTCCATATGCG\n",
      "\n",
      "\n"
     ]
    }
   ],
   "source": [
    "for i in range(len(data)):\n",
    "    for j in range(i + 1, len(data)):\n",
    "        score, profile, sequence1, sequence2 = sequence_alignment(data[i].rstrip(), data[j].rstrip())\n",
    "        print(\"The score is:\")\n",
    "        print(score)\n",
    "        print(\"The profile created and the sequences are given below:\")\n",
    "        print(''.join(profile))\n",
    "        print(''.join(sequence1))\n",
    "        print(''.join(sequence2))\n",
    "        print('\\n')"
   ]
  },
  {
   "cell_type": "markdown",
   "metadata": {},
   "source": [
    "## 2. Alignment of profile with 3rd Sequence"
   ]
  },
  {
   "cell_type": "code",
   "execution_count": 12,
   "metadata": {
    "scrolled": true
   },
   "outputs": [
    {
     "name": "stdout",
     "output_type": "stream",
     "text": [
      "The alignment of the profile:\n",
      "The score is:\n",
      "18\n",
      "The profile created and the sequences are given below:\n",
      "(-/C)(-/C)TG(-/C)T(-/A)(-/C)TT(A/-)(A/-)(A/-)(A/T)ATG(T/-)CCG(-/T)C(A/-)(A/T)CCAT(-/A)T(T/G)C(-/G)\n",
      "---G--A-TATAAAACAGGGATAACTGCA-ATG-G\n",
      "CCTGCTACT-TTATGC--CG-T--CTCCATATGCG\n",
      "\n",
      "\n",
      "The alignment of the profile with the third sequence:\n",
      "The score is:\n",
      "15.5\n",
      "The final profile created and the sequences are given below:\n",
      "(-/-/C)(-/-/C)(-/T)G(-/-/C)(-/T)(A/-/A)(-/-/C)T(A/-)T(A/A/-)(A/A/-)(A/A/-)(A/A/T)(C/-)A(-/T)G(-/T/-)(-/C)(G/C)G(A/-)(T/-/T)(-/C)(A/A/-)(A/A/T)C(T/-)(G/-)CA(-/T)(A/-/A)T(G/T/G)(-/C)(G/-/G)\n",
      "---G--A-TATAAAACA-G--GGAT-AACTGCA-ATG-G\n",
      "(-/C)(-/C)TG(-/C)T(-/A)(-/C)T-T(A/-)(A/-)(A/-)(A/T)-ATG(T/-)CCG-(-/T)C(A/-)(A/T)C--CAT(-/A)T(T/G)C(-/G)\n"
     ]
    }
   ],
   "source": [
    "max_score = 0\n",
    "for i in range(len(data)):\n",
    "    for j in range(i + 1, len(data)):\n",
    "        score, profile, sequence1, sequence2 = sequence_alignment(data[i].rstrip(), data[j].rstrip())\n",
    "        if score > max_score:\n",
    "            index1 = i\n",
    "            index2 = j\n",
    "            max_score = score\n",
    "            max_profile = profile\n",
    "print (\"The alignment of the profile:\")\n",
    "print(\"The score is:\")\n",
    "print(max_score)\n",
    "print(\"The profile created and the sequences are given below:\")\n",
    "print(''.join(max_profile))\n",
    "print(''.join(sequence1))\n",
    "print(''.join(sequence2))\n",
    "print('\\n')\n",
    "for k in range(len(data)):\n",
    "    if k != index1 and k != index2:\n",
    "        score, profile, sequence1, sequence2 = sequence_alignment(data[k].strip(), max_profile)\n",
    "print (\"The alignment of the profile with the third sequence:\")\n",
    "print(\"The score is:\")\n",
    "print(score)\n",
    "print(\"The final profile created and the sequences are given below:\")\n",
    "print(''.join(profile))\n",
    "print(''.join(sequence1))\n",
    "print(''.join(sequence2))"
   ]
  },
  {
   "cell_type": "markdown",
   "metadata": {},
   "source": [
    "## Alignment of the 3 sequence is given below."
   ]
  },
  {
   "cell_type": "markdown",
   "metadata": {},
   "source": [
    "The first one is final result, The second one is 3rd sequence and the final one is the combination of first and second sequences."
   ]
  },
  {
   "cell_type": "code",
   "execution_count": 20,
   "metadata": {},
   "outputs": [
    {
     "name": "stdout",
     "output_type": "stream",
     "text": [
      "---G----T-T-----A-G---G-----C--CA--T---\n",
      "---G--A-TATAAAACA-G--GGAT-AACTGCA-ATG-G\n",
      "--TG-T--T-T-----ATG-CCG--C--C--CAT-T-C-\n"
     ]
    }
   ],
   "source": [
    "profile_new=[]\n",
    "sequence2_new=[]\n",
    "for item in profile:\n",
    "    if len(item)>1:\n",
    "        item = '-'\n",
    "    profile_new.append(item)\n",
    "for item in sequence2:\n",
    "    if len(item)>1:\n",
    "        item = '-'\n",
    "    sequence2_new.append(item)\n",
    "print(''.join(profile_new))\n",
    "print(''.join(sequence1))\n",
    "print(''.join(sequence2_new))"
   ]
  },
  {
   "cell_type": "code",
   "execution_count": null,
   "metadata": {},
   "outputs": [],
   "source": []
  }
 ],
 "metadata": {
  "kernelspec": {
   "display_name": "Python 3",
   "language": "python",
   "name": "python3"
  },
  "language_info": {
   "codemirror_mode": {
    "name": "ipython",
    "version": 3
   },
   "file_extension": ".py",
   "mimetype": "text/x-python",
   "name": "python",
   "nbconvert_exporter": "python",
   "pygments_lexer": "ipython3",
   "version": "3.6.3"
  }
 },
 "nbformat": 4,
 "nbformat_minor": 2
}
